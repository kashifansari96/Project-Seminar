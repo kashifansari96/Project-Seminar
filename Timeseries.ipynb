{
 "cells": [
  {
   "cell_type": "code",
   "execution_count": 3,
   "metadata": {},
   "outputs": [
    {
     "name": "stderr",
     "output_type": "stream",
     "text": [
      "<ipython-input-3-7757613f0d23>:36: RuntimeWarning: overflow encountered in double_scalars\n",
      "  row['P_I_00'] = row['P_I_00'] + (row['P_I_00'] * (-row['P_I_00']) * gamma - row['P_I_01'] - row['P_I_10'] - row['P_I_11'] - row['P_S_00'] * gamma - row['P_S_01'] - row['P_S_10'] - row['P_S_11'] - row['P_R_00'] * gamma - row['P_R_01'] - row['P_R_10'] - row['P_R_11'])\n",
      "<ipython-input-3-7757613f0d23>:32: RuntimeWarning: invalid value encountered in double_scalars\n",
      "  row['P_S_00'] = row['P_S_00'] + (row['P_S_00'] * (-row['P_S_01']) - row['P_S_10'] - row['P_S_11'] - row['P_I_00'] * (pi1(0, 0) * beta1 + pi2(0, 0) * beta2) - (pi1(0, 0) + pi2(0, 0)) * (row['P_I_01'] + row['P_I_10'] + row['P_I_11']) - row['P_R_01'] - row['P_R_10'] - row['P_R_11'])\n"
     ]
    },
    {
     "name": "stdout",
     "output_type": "stream",
     "text": [
      "DataFrame:\n",
      "       P_S_00  P_S_01  P_S_10  P_S_11      P_I_00  P_I_01  P_I_10  P_I_11  \\\n",
      "0   -2.232500     0.3     0.4     0.1   -2.280500     0.2     0.6    0.15   \n",
      "1   -2.886525     0.3     0.4     0.1   -5.086642     0.2     0.6    0.15   \n",
      "2   -2.081579     0.3     0.4     0.1  -11.012699     0.2     0.6    0.15   \n",
      "3    1.148609     0.3     0.4     0.1  -31.681769     0.2     0.6    0.15   \n",
      "4   12.710823     0.3     0.4     0.1 -186.421425     0.2     0.6    0.15   \n",
      "..        ...     ...     ...     ...         ...     ...     ...     ...   \n",
      "95        NaN     0.3     0.4     0.1         NaN     0.2     0.6    0.15   \n",
      "96        NaN     0.3     0.4     0.1         NaN     0.2     0.6    0.15   \n",
      "97        NaN     0.3     0.4     0.1         NaN     0.2     0.6    0.15   \n",
      "98        NaN     0.3     0.4     0.1         NaN     0.2     0.6    0.15   \n",
      "99        NaN     0.3     0.4     0.1         NaN     0.2     0.6    0.15   \n",
      "\n",
      "      P_R_00  P_R_01  P_R_10  P_R_11  \n",
      "0  -1.273210     0.5     0.3     0.1  \n",
      "1  -1.951967     0.5     0.3     0.1  \n",
      "2  -2.301004     0.5     0.3     0.1  \n",
      "3  -2.514286     0.5     0.3     0.1  \n",
      "4  -2.759673     0.5     0.3     0.1  \n",
      "..       ...     ...     ...     ...  \n",
      "95       NaN     0.5     0.3     0.1  \n",
      "96       NaN     0.5     0.3     0.1  \n",
      "97       NaN     0.5     0.3     0.1  \n",
      "98       NaN     0.5     0.3     0.1  \n",
      "99       NaN     0.5     0.3     0.1  \n",
      "\n",
      "[100 rows x 12 columns]\n"
     ]
    },
    {
     "data": {
      "image/png": "[encoded data removed]",
      "text/plain": [
       "<Figure size 720x432 with 1 Axes>"
      ]
     },
     "metadata": {
      "needs_background": "light"
     },
     "output_type": "display_data"
    }
   ],
   "source": [
    "import numpy as np\n",
    "import matplotlib.pyplot as plt\n",
    "import pandas as pd\n",
    "\n",
    "def pi1(q1, q2):\n",
    "    return np.exp(q1) / (np.exp(q1) + np.exp(q2))\n",
    "\n",
    "def pi2(q1, q2):\n",
    "    return np.exp(q2) / (np.exp(q1) + np.exp(q2))\n",
    "\n",
    "# Initial values (using float type for consistency)\n",
    "initial_values = {\n",
    "    'P_S_00': 0.2,\n",
    "    'P_S_01': 0.3,\n",
    "    'P_S_10': 0.4,\n",
    "    'P_S_11': 0.1,\n",
    "    'P_I_00': 0.05,\n",
    "    'P_I_01': 0.2,\n",
    "    'P_I_10': 0.6,\n",
    "    'P_I_11': 0.15,\n",
    "    'P_R_00': 0.1,\n",
    "    'P_R_01': 0.5,\n",
    "    'P_R_10': 0.3,\n",
    "    'P_R_11': 0.1\n",
    "}\n",
    "\n",
    "beta1, beta2 = 0.4, 0.5\n",
    "gamma = 0.15\n",
    "\n",
    "# Equations for updating proportions\n",
    "def update_proportions_S(row):\n",
    "    row['P_S_00'] = row['P_S_00'] + (row['P_S_00'] * (-row['P_S_01']) - row['P_S_10'] - row['P_S_11'] - row['P_I_00'] * (pi1(0, 0) * beta1 + pi2(0, 0) * beta2) - (pi1(0, 0) + pi2(0, 0)) * (row['P_I_01'] + row['P_I_10'] + row['P_I_11']) - row['P_R_01'] - row['P_R_10'] - row['P_R_11'])\n",
    "    return row\n",
    "\n",
    "def update_proportions_I(row):\n",
    "    row['P_I_00'] = row['P_I_00'] + (row['P_I_00'] * (-row['P_I_00']) * gamma - row['P_I_01'] - row['P_I_10'] - row['P_I_11'] - row['P_S_00'] * gamma - row['P_S_01'] - row['P_S_10'] - row['P_S_11'] - row['P_R_00'] * gamma - row['P_R_01'] - row['P_R_10'] - row['P_R_11'])\n",
    "    return row\n",
    "\n",
    "def update_proportions_R(row):\n",
    "    row['P_R_00'] = row['P_R_00'] + (row['P_R_00'] * (-row['P_R_01']) - row['P_R_10'] - row['P_R_11'] - row['P_S_00'] * row['P_S_01'] * row['P_S_10'] * row['P_S_11'] - row['P_I_10'] - row['P_I_01'] - row['P_I_11'])\n",
    "    return row\n",
    "\n",
    "# Simulation\n",
    "time_steps = 100\n",
    "index = range(time_steps)\n",
    "df = pd.DataFrame(index=index, columns=initial_values.keys(), dtype=float)\n",
    "df.loc[0] = initial_values\n",
    "\n",
    "for t in range(1, time_steps):\n",
    "    df.loc[t] = update_proportions_S(df.loc[t-1])\n",
    "    df.loc[t] = update_proportions_I(df.loc[t-1])\n",
    "    df.loc[t] = update_proportions_R(df.loc[t-1])\n",
    "\n",
    "# Display the DataFrame\n",
    "print(\"DataFrame:\")\n",
    "print(df)\n",
    "\n",
    "# Plotting\n",
    "plt.figure(figsize=(10, 6))\n",
    "for column in df.columns:\n",
    "    plt.plot(df.index, df[column], label=column)\n",
    "plt.xlabel('Time')\n",
    "plt.ylabel('Proportion')\n",
    "plt.title('Changes in Group Proportions Over Time')\n",
    "plt.legend()\n",
    "plt.grid(True)\n",
    "plt.show()\n"
   ]
  },
  {
   "cell_type": "code",
   "execution_count": null,
   "metadata": {},
   "outputs": [],
   "source": []
  }
 ],
 "metadata": {
  "kernelspec": {
   "display_name": "Python 3",
   "language": "python",
   "name": "python3"
  },
  "language_info": {
   "codemirror_mode": {
    "name": "ipython",
    "version": 3
   },
   "file_extension": ".py",
   "mimetype": "text/x-python",
   "name": "python",
   "nbconvert_exporter": "python",
   "pygments_lexer": "ipython3",
   "version": "3.8.5"
  }
 },
 "nbformat": 4,
 "nbformat_minor": 4
}
