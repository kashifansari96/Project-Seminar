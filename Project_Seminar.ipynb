{
 "cells": [
  {
   "cell_type": "code",
   "execution_count": 1,
   "metadata": {},
   "outputs": [],
   "source": [
    "import numpy as np"
   ]
  },
  {
   "cell_type": "code",
   "execution_count": null,
   "metadata": {},
   "outputs": [],
   "source": [
    "def pi1 (q1,q2):\n",
    "    return (np.exp(q1) /(np.exp(q1) +np.exp(q2)))\n",
    "\n",
    "def pi2 (q1,q2):\n",
    "    return (np.exp(q2) /(np.exp(q1) +np.exp(q2)))"
   ]
  },
  {
   "cell_type": "code",
   "execution_count": null,
   "metadata": {},
   "outputs": [],
   "source": [
    "E = [s , i , r]\n",
    "q1, q2 = {[0 ,1 ] , [0 ,1 ]}\n",
    "\n",
    "for _ in q1 and _ in q2 :\n",
    "        p[s][q1,q2] = 0.2\n",
    "\n",
    "for _ in q1 and _ in q2 :\n",
    "        p[i][q1,q2] = 0.05\n",
    "\n",
    "ds_q1_q2 = "
   ]
  }
 ],
 "metadata": {
  "kernelspec": {
   "display_name": "venv",
   "language": "python",
   "name": "python3"
  },
  "language_info": {
   "codemirror_mode": {
    "name": "ipython",
    "version": 3
   },
   "file_extension": ".py",
   "mimetype": "text/x-python",
   "name": "python",
   "nbconvert_exporter": "python",
   "pygments_lexer": "ipython3",
   "version": "3.11.9"
  }
 },
 "nbformat": 4,
 "nbformat_minor": 2
}
